{
 "cells": [
  {
   "cell_type": "markdown",
   "id": "90a0a729",
   "metadata": {},
   "source": [
    "create numpy  array with random number\n"
   ]
  },
  {
   "cell_type": "markdown",
   "id": "6aac9ab2",
   "metadata": {},
   "source": [
    "random number\n"
   ]
  },
  {
   "cell_type": "code",
   "execution_count": 1,
   "id": "eadb9d47",
   "metadata": {},
   "outputs": [
    {
     "name": "stdout",
     "output_type": "stream",
     "text": [
      "[0.91574732 0.22679349 0.94801192 0.0257542 ]\n"
     ]
    }
   ],
   "source": [
    "import numpy as np\n",
    "x =np.random.rand(4)\n",
    "print(x)"
   ]
  },
  {
   "cell_type": "code",
   "execution_count": 2,
   "id": "4c3d488f",
   "metadata": {},
   "outputs": [
    {
     "name": "stdout",
     "output_type": "stream",
     "text": [
      "[[0.85000367 0.06267954 0.46293611]\n",
      " [0.01452234 0.34905393 0.0232763 ]]\n"
     ]
    }
   ],
   "source": [
    "x=np.random.rand(2,3)\n",
    "print(x)"
   ]
  },
  {
   "cell_type": "code",
   "execution_count": 3,
   "id": "138ea6c7",
   "metadata": {},
   "outputs": [
    {
     "name": "stdout",
     "output_type": "stream",
     "text": [
      "[-0.53949941 -0.98661145  1.12963434  0.37104128]\n"
     ]
    }
   ],
   "source": [
    "x=np.random.randn(4)\n",
    "print(x)"
   ]
  },
  {
   "cell_type": "code",
   "execution_count": 8,
   "id": "870348df",
   "metadata": {},
   "outputs": [
    {
     "name": "stdout",
     "output_type": "stream",
     "text": [
      "[0.84841644 0.89069188 0.75281011 0.10600219]\n"
     ]
    }
   ],
   "source": [
    "x=np.random.ranf(4)\n",
    "print(x)"
   ]
  },
  {
   "cell_type": "code",
   "execution_count": 9,
   "id": "8a7dfd4f",
   "metadata": {},
   "outputs": [
    {
     "name": "stdout",
     "output_type": "stream",
     "text": [
      "[12  7 15 11  5]\n"
     ]
    }
   ],
   "source": [
    "# x=np.random.randint(min,max,total)\n",
    "x=np.random.randint(4,20,5)\n",
    "print(x)"
   ]
  }
 ],
 "metadata": {
  "kernelspec": {
   "display_name": "Python 3",
   "language": "python",
   "name": "python3"
  },
  "language_info": {
   "codemirror_mode": {
    "name": "ipython",
    "version": 3
   },
   "file_extension": ".py",
   "mimetype": "text/x-python",
   "name": "python",
   "nbconvert_exporter": "python",
   "pygments_lexer": "ipython3",
   "version": "3.13.5"
  }
 },
 "nbformat": 4,
 "nbformat_minor": 5
}
