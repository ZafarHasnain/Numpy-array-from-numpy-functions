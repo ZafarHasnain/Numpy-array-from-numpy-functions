{
 "cells": [
  {
   "cell_type": "markdown",
   "id": "3f16b0fb",
   "metadata": {},
   "source": [
    "#Create numpy array from numpy function\n"
   ]
  },
  {
   "cell_type": "markdown",
   "id": "4e2a205b",
   "metadata": {},
   "source": [
    "arrays with zeros"
   ]
  },
  {
   "cell_type": "code",
   "execution_count": 10,
   "id": "18811732",
   "metadata": {},
   "outputs": [
    {
     "name": "stdout",
     "output_type": "stream",
     "text": [
      "[[0. 0. 0. 0.]\n",
      " [0. 0. 0. 0.]\n",
      " [0. 0. 0. 0.]]\n",
      "2\n",
      "\n",
      "[0. 0. 0. 0. 0.]\n",
      "1\n"
     ]
    }
   ],
   "source": [
    "import numpy as np\n",
    "ar_zero = np.zeros(5)  #array with one dimension\n",
    "\n",
    "# array with multiple dimension\n",
    "ar_zero1 = np.zeros((3,4))\n",
    "print(ar_zero1)\n",
    "print(ar_zero1.ndim)\n",
    "print()\n",
    "print(ar_zero)\n",
    "print(ar_zero.ndim)"
   ]
  },
  {
   "cell_type": "markdown",
   "id": "6a1d4970",
   "metadata": {},
   "source": [
    "arrays with ones\n"
   ]
  },
  {
   "cell_type": "code",
   "execution_count": 11,
   "id": "12528ed6",
   "metadata": {},
   "outputs": [
    {
     "name": "stdout",
     "output_type": "stream",
     "text": [
      "[1. 1. 1. 1.]\n",
      "\n",
      "1\n"
     ]
    }
   ],
   "source": [
    "ar_one = np.ones(4)\n",
    "print(ar_one)\n",
    "print()\n",
    "print(ar_one.ndim)"
   ]
  },
  {
   "cell_type": "markdown",
   "id": "8b86992a",
   "metadata": {},
   "source": [
    "empty array"
   ]
  },
  {
   "cell_type": "code",
   "execution_count": 12,
   "id": "3651f310",
   "metadata": {},
   "outputs": [
    {
     "name": "stdout",
     "output_type": "stream",
     "text": [
      "[0. 0. 0. 0. 0.]\n"
     ]
    }
   ],
   "source": [
    "ar_emp = np.empty(5)\n",
    "print(ar_emp)\n"
   ]
  },
  {
   "cell_type": "markdown",
   "id": "53e2b549",
   "metadata": {},
   "source": [
    "range"
   ]
  },
  {
   "cell_type": "code",
   "execution_count": 13,
   "id": "eef547d4",
   "metadata": {},
   "outputs": [
    {
     "name": "stdout",
     "output_type": "stream",
     "text": [
      "[0 1 2 3]\n"
     ]
    }
   ],
   "source": [
    "ar_sattar =np.arange(4)\n",
    "print(ar_sattar)"
   ]
  },
  {
   "cell_type": "markdown",
   "id": "82711aa8",
   "metadata": {},
   "source": [
    "Diagnal"
   ]
  },
  {
   "cell_type": "code",
   "execution_count": 14,
   "id": "f4f7b43a",
   "metadata": {},
   "outputs": [
    {
     "name": "stdout",
     "output_type": "stream",
     "text": [
      "[[1. 0. 0.]\n",
      " [0. 1. 0.]\n",
      " [0. 0. 1.]]\n"
     ]
    }
   ],
   "source": [
    "ar_dia = np.eye(3)\n",
    "print(ar_dia)\n"
   ]
  },
  {
   "cell_type": "markdown",
   "id": "d7c73e71",
   "metadata": {},
   "source": [
    "linspace\n"
   ]
  },
  {
   "cell_type": "code",
   "execution_count": 15,
   "id": "7d5c76ef",
   "metadata": {},
   "outputs": [
    {
     "name": "stdout",
     "output_type": "stream",
     "text": [
      "[ 0.   2.5  5.   7.5 10. ]\n"
     ]
    }
   ],
   "source": [
    "ar_lin =np.linspace(0,10 ,num = 5)\n",
    "print(ar_lin)"
   ]
  }
 ],
 "metadata": {
  "kernelspec": {
   "display_name": "Python 3",
   "language": "python",
   "name": "python3"
  },
  "language_info": {
   "codemirror_mode": {
    "name": "ipython",
    "version": 3
   },
   "file_extension": ".py",
   "mimetype": "text/x-python",
   "name": "python",
   "nbconvert_exporter": "python",
   "pygments_lexer": "ipython3",
   "version": "3.13.5"
  }
 },
 "nbformat": 4,
 "nbformat_minor": 5
}
